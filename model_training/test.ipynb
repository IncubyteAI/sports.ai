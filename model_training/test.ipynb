{
 "cells": [
  {
   "cell_type": "code",
   "execution_count": 1,
   "metadata": {},
   "outputs": [],
   "source": [
    "import os\n",
    "os.chdir(\"/Users/tanayagrawal/sports-ai/\")"
   ]
  },
  {
   "cell_type": "code",
   "execution_count": 2,
   "metadata": {},
   "outputs": [],
   "source": [
    "import pandas as pd\n",
    "import numpy as np\n",
    "video_lengths = {}\n",
    "current_video_name = None\n",
    "current_video_length = 0\n",
    "dataset = pd.read_csv('datasets/all_coords_dataset_2.csv')\n",
    "\n",
    "for index, row in dataset.iterrows():\n",
    "    video_name = row['video_name']\n",
    "    if video_name != current_video_name:\n",
    "        if current_video_name is not None:\n",
    "            video_lengths[current_video_name] = current_video_lengths\n",
    "        current_video_name = video_name\n",
    "        current_video_length = 0\n",
    "    current_video_length += 1\n",
    "\n",
    "video_lengths[current_video_name] = current_video_length"
   ]
  },
  {
   "cell_type": "code",
   "execution_count": 21,
   "metadata": {},
   "outputs": [
    {
     "data": {
      "text/plain": [
       "41"
      ]
     },
     "execution_count": 21,
     "metadata": {},
     "output_type": "execute_result"
    }
   ],
   "source": [
    "len(video_lengths)"
   ]
  },
  {
   "cell_type": "code",
   "execution_count": 10,
   "metadata": {},
   "outputs": [],
   "source": [
    "import pandas as pd\n",
    "import numpy as np\n",
    "\n",
    "dataset = pd.read_csv('datasets/all_coords_dataset_2.csv')\n",
    "\n",
    "#doesnt work\n",
    "def create_sequences(df):\n",
    "    X, y = [], []\n",
    "    for video_name, group in df.groupby('video_name'):\n",
    "        for i in range(len(group) - 1):\n",
    "            seq_x, seq_y = group.iloc[i:i+2, :-1].values \n",
    "            X.append(seq_x)\n",
    "            y.append(seq_y)\n",
    "    return np.array(X), np.array(y)"
   ]
  },
  {
   "cell_type": "code",
   "execution_count": 5,
   "metadata": {},
   "outputs": [],
   "source": [
    "from sklearn.preprocessing import MinMaxScaler\n",
    "\n",
    "numeric_data = dataset.select_dtypes(include=[np.number])\n",
    "numeric_data = numeric_data.iloc[:, 1:-1]\n",
    "\n",
    "scaler = MinMaxScaler(feature_range=(0, 1))\n",
    "scaled_numeric_data = scaler.fit_transform(numeric_data)"
   ]
  },
  {
   "cell_type": "code",
   "execution_count": 6,
   "metadata": {},
   "outputs": [],
   "source": [
    "video_names = dataset['video_name']"
   ]
  },
  {
   "cell_type": "code",
   "execution_count": 7,
   "metadata": {},
   "outputs": [],
   "source": [
    "scaled_df = pd.DataFrame(scaled_numeric_data, columns=numeric_data.columns)\n",
    "scaled_df['video_name'] = video_names"
   ]
  },
  {
   "cell_type": "code",
   "execution_count": 40,
   "metadata": {},
   "outputs": [
    {
     "data": {
      "text/plain": [
       "3557"
      ]
     },
     "execution_count": 40,
     "metadata": {},
     "output_type": "execute_result"
    }
   ],
   "source": [
    "len(scaled_df)"
   ]
  },
  {
   "cell_type": "code",
   "execution_count": 11,
   "metadata": {},
   "outputs": [],
   "source": [
    "X, y = create_sequences(scaled_df)"
   ]
  },
  {
   "cell_type": "code",
   "execution_count": 44,
   "metadata": {},
   "outputs": [
    {
     "data": {
      "text/plain": [
       "(3516, 66)"
      ]
     },
     "execution_count": 44,
     "metadata": {},
     "output_type": "execute_result"
    }
   ],
   "source": [
    "X.shape"
   ]
  },
  {
   "cell_type": "code",
   "execution_count": 29,
   "metadata": {},
   "outputs": [
    {
     "ename": "ValueError",
     "evalue": "cannot reshape array of size 232056 into shape (41,162,10692)",
     "output_type": "error",
     "traceback": [
      "\u001b[0;31m---------------------------------------------------------------------------\u001b[0m",
      "\u001b[0;31mValueError\u001b[0m                                Traceback (most recent call last)",
      "Cell \u001b[0;32mIn[29], line 16\u001b[0m\n\u001b[1;32m     11\u001b[0m total_points_per_sequence \u001b[38;5;241m=\u001b[39m \u001b[38;5;241m66\u001b[39m \u001b[38;5;241m*\u001b[39m \u001b[38;5;241m162\u001b[39m\n\u001b[1;32m     13\u001b[0m \u001b[38;5;66;03m# Reshape the padded sequences to be 3D: (samples, timesteps, features)\u001b[39;00m\n\u001b[1;32m     14\u001b[0m \u001b[38;5;66;03m# Since each sequence is a 2D array where each row represents a frame and each column represents a point (x, y, z coordinates for a keypoint),\u001b[39;00m\n\u001b[1;32m     15\u001b[0m \u001b[38;5;66;03m# the reshaping should reflect this structure.\u001b[39;00m\n\u001b[0;32m---> 16\u001b[0m X_padded \u001b[38;5;241m=\u001b[39m \u001b[43mX_padded\u001b[49m\u001b[38;5;241;43m.\u001b[39;49m\u001b[43mreshape\u001b[49m\u001b[43m(\u001b[49m\u001b[43m(\u001b[49m\u001b[38;5;241;43m41\u001b[39;49m\u001b[43m,\u001b[49m\u001b[43m \u001b[49m\u001b[38;5;241;43m162\u001b[39;49m\u001b[43m,\u001b[49m\u001b[43m \u001b[49m\u001b[43mtotal_points_per_sequence\u001b[49m\u001b[43m)\u001b[49m\u001b[43m)\u001b[49m\n",
      "\u001b[0;31mValueError\u001b[0m: cannot reshape array of size 232056 into shape (41,162,10692)"
     ]
    }
   ],
   "source": [
    "from tensorflow.keras.preprocessing.sequence import pad_sequences\n",
    "from pose.mp_utils import ALL_LIMB_MARKERS\n",
    "\n",
    "max_length = max([len(seq) for seq in X])\n",
    "\n",
    "X_padded = pad_sequences(X, maxlen=162, dtype='float32', padding='post', value=0)\n",
    "total_points_per_sequence = 66 * 162\n",
    "X_padded = X_padded.reshape((41, 162, total_points_per_sequence))"
   ]
  }
 ],
 "metadata": {
  "kernelspec": {
   "display_name": ".venv",
   "language": "python",
   "name": "python3"
  },
  "language_info": {
   "codemirror_mode": {
    "name": "ipython",
    "version": 3
   },
   "file_extension": ".py",
   "mimetype": "text/x-python",
   "name": "python",
   "nbconvert_exporter": "python",
   "pygments_lexer": "ipython3",
   "version": "3.8.18"
  }
 },
 "nbformat": 4,
 "nbformat_minor": 2
}
