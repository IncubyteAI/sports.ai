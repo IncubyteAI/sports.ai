{
 "cells": [
  {
   "cell_type": "code",
   "execution_count": 1,
   "metadata": {},
   "outputs": [
    {
     "data": {
      "text/plain": [
       "(torch.Size([3544, 36]), torch.Size([3544]))"
      ]
     },
     "execution_count": 1,
     "metadata": {},
     "output_type": "execute_result"
    }
   ],
   "source": [
    "import torch\n",
    "from torch.utils.data import Dataset\n",
    "import pandas as pd\n",
    "class CoordDataset(Dataset):\n",
    "    def __init__(self):\n",
    "        df = pd.read_csv(\"../coord_dataset/coord_dataset.csv\")\n",
    "        self.X = torch.tensor(df.to_numpy()[:, 1:-1], dtype=torch.float32)\n",
    "        self.y = torch.tensor(df.to_numpy()[:, -1], dtype=torch.long)\n",
    "        \n",
    "    def __len__(self):\n",
    "        return len(self.X)\n",
    "    \n",
    "    def __getitem__(self, idx):\n",
    "        return self.X[idx], self.y[idx]\n",
    "dataset = CoordDataset()\n",
    "dataset.X.shape, dataset.y.shape"
   ]
  },
  {
   "cell_type": "code",
   "execution_count": 2,
   "metadata": {},
   "outputs": [],
   "source": [
    "torch.manual_seed(42)\n",
    "train, val, test = torch.utils.data.random_split(dataset, [0.6, 0.2, 0.2])"
   ]
  },
  {
   "cell_type": "code",
   "execution_count": 3,
   "metadata": {},
   "outputs": [
    {
     "data": {
      "text/plain": [
       "(2127, 709, 708)"
      ]
     },
     "execution_count": 3,
     "metadata": {},
     "output_type": "execute_result"
    }
   ],
   "source": [
    "len(train), len(val), len(test)"
   ]
  },
  {
   "cell_type": "code",
   "execution_count": 8,
   "metadata": {},
   "outputs": [
    {
     "data": {
      "text/plain": [
       "CN_S50_4_D0(\n",
       "  (net): Sequential(\n",
       "    (0): Linear(in_features=36, out_features=50, bias=True)\n",
       "    (1): ReLU()\n",
       "    (2): Linear(in_features=50, out_features=50, bias=True)\n",
       "    (3): ReLU()\n",
       "    (4): Linear(in_features=50, out_features=50, bias=True)\n",
       "    (5): ReLU()\n",
       "    (6): Linear(in_features=50, out_features=8, bias=True)\n",
       "  )\n",
       ")"
      ]
     },
     "execution_count": 8,
     "metadata": {},
     "output_type": "execute_result"
    }
   ],
   "source": [
    "import torch.nn as nn\n",
    "import torch\n",
    "import sys\n",
    "sys.path.insert(0, '../models/')\n",
    "from models import *\n",
    "\n",
    "model = CN_S50_4_D0()\n",
    "model"
   ]
  },
  {
   "cell_type": "code",
   "execution_count": 9,
   "metadata": {},
   "outputs": [
    {
     "name": "stderr",
     "output_type": "stream",
     "text": [
      "Epoch 999 -> Loss: 0.0391: 100%|██████████| 1000/1000 [01:12<00:00, 13.84it/s]\n"
     ]
    }
   ],
   "source": [
    "from torch.utils.data import DataLoader\n",
    "from tqdm import tqdm\n",
    "EPOCHS = 1000\n",
    "BATCH_SIZE = 64\n",
    "LEARNING_RATE = 0.001\n",
    "\n",
    "train_loader = DataLoader(train, batch_size=BATCH_SIZE, shuffle=True)\n",
    "optimizer = torch.optim.Adam(model.parameters(), lr=LEARNING_RATE)\n",
    "loss_fn = nn.CrossEntropyLoss()\n",
    "for epoch in (pbar := tqdm(range(EPOCHS))):\n",
    "    for X, y in train_loader:\n",
    "        model.zero_grad()\n",
    "        y_hat = model(X)\n",
    "        loss = loss_fn(y_hat, y)\n",
    "        loss.backward()\n",
    "        optimizer.step()\n",
    "    pbar.set_description(f\"Epoch {epoch} -> Loss: {loss.item():.4f}\")\n"
   ]
  },
  {
   "cell_type": "code",
   "execution_count": 10,
   "metadata": {},
   "outputs": [],
   "source": [
    "torch.save(model.state_dict(), \"../models/model_state_dict_CN_S50_4_D0.pt\")"
   ]
  },
  {
   "cell_type": "code",
   "execution_count": 11,
   "metadata": {},
   "outputs": [
    {
     "name": "stdout",
     "output_type": "stream",
     "text": [
      "Accuracy on train dataset: 0.98\n"
     ]
    }
   ],
   "source": [
    "model = CN_S50_4_D0()\n",
    "model.load_state_dict(torch.load(\"../models/model_state_dict_CN_S50_4_D0.pt\"))\n",
    "model.eval()\n",
    "train_loader = DataLoader(train, batch_size=BATCH_SIZE, shuffle=False)\n",
    "correct = 0\n",
    "total = 0\n",
    "with torch.no_grad():\n",
    "    for X, y in train_loader:\n",
    "        y_hat = model(X)\n",
    "        _, predicted = torch.max(y_hat.data, 1)\n",
    "        total += y.size(0)\n",
    "        correct += (predicted == y).sum().item()\n",
    "accuracy = correct / total\n",
    "print(f\"Accuracy on train dataset: {accuracy:.2f}\")\n"
   ]
  },
  {
   "cell_type": "code",
   "execution_count": 12,
   "metadata": {},
   "outputs": [
    {
     "name": "stdout",
     "output_type": "stream",
     "text": [
      "Accuracy on val dataset: 0.89\n"
     ]
    }
   ],
   "source": [
    "val_loader = DataLoader(val, batch_size=BATCH_SIZE, shuffle=False)\n",
    "correct = 0\n",
    "total = 0\n",
    "with torch.no_grad():\n",
    "    for X, y in val_loader:\n",
    "        y_hat = model(X)\n",
    "        _, predicted = torch.max(y_hat.data, 1)\n",
    "        total += y.size(0)\n",
    "        correct += (predicted == y).sum().item()\n",
    "accuracy = correct / total\n",
    "print(f\"Accuracy on val dataset: {accuracy:.2f}\")\n"
   ]
  },
  {
   "cell_type": "code",
   "execution_count": 13,
   "metadata": {},
   "outputs": [
    {
     "name": "stdout",
     "output_type": "stream",
     "text": [
      "Accuracy on test dataset: 0.89\n"
     ]
    }
   ],
   "source": [
    "test_loader = DataLoader(test, batch_size=BATCH_SIZE, shuffle=False)\n",
    "correct = 0\n",
    "total = 0\n",
    "with torch.no_grad():\n",
    "    for X, y in test_loader:\n",
    "        y_hat = model(X)\n",
    "        _, predicted = torch.max(y_hat.data, 1)\n",
    "        total += y.size(0)\n",
    "        correct += (predicted == y).sum().item()\n",
    "accuracy = correct / total\n",
    "print(f\"Accuracy on test dataset: {accuracy:.2f}\")\n"
   ]
  },
  {
   "cell_type": "code",
   "execution_count": 15,
   "metadata": {},
   "outputs": [
    {
     "data": {
      "text/plain": [
       "(array([0, 1, 2, 3, 4, 5, 6, 7]),\n",
       " array([ 76, 226, 132,  73,  16,  14,  82,  90]))"
      ]
     },
     "execution_count": 15,
     "metadata": {},
     "output_type": "execute_result"
    }
   ],
   "source": [
    "import numpy as np\n",
    "np.unique(dataset.y[val.indices], return_counts=True)"
   ]
  },
  {
   "cell_type": "code",
   "execution_count": 16,
   "metadata": {},
   "outputs": [
    {
     "data": {
      "text/plain": [
       "array([[1. , 2. , 3. ],\n",
       "       [2. , 2.5, 3. ]])"
      ]
     },
     "execution_count": 16,
     "metadata": {},
     "output_type": "execute_result"
    }
   ],
   "source": [
    "a = np.array([[1, 2, 3], [4, 5, 6]])\n",
    "b = np.array([1, 2])\n",
    "a / b[:, None]"
   ]
  },
  {
   "cell_type": "code",
   "execution_count": 17,
   "metadata": {},
   "outputs": [
    {
     "data": {
      "image/png": "[encoded data removed]",
      "text/plain": [
       "<Figure size 800x800 with 2 Axes>"
      ]
     },
     "metadata": {},
     "output_type": "display_data"
    }
   ],
   "source": [
    "import seaborn as sns\n",
    "from sklearn.metrics import confusion_matrix\n",
    "import matplotlib.pyplot as plt\n",
    "\n",
    "# get predicted labels for val dataset\n",
    "val_loader = DataLoader(val, batch_size=BATCH_SIZE, shuffle=False)\n",
    "y_true = []\n",
    "y_pred = []\n",
    "model = CN_S50_4_D0()\n",
    "model.load_state_dict(torch.load(\"../models/model_state_dict_CN_S50_4_D0.pt\"))\n",
    "model.eval()\n",
    "for X, y in val_loader:\n",
    "    y_hat = model(X)\n",
    "    _, predicted = torch.max(y_hat.data, 1)\n",
    "    y_true.extend(y.numpy())\n",
    "    y_pred.extend(predicted.numpy())\n",
    "\n",
    "# get confusion matrix\n",
    "cm = confusion_matrix(y_true, y_pred)\n",
    "value_counts = np.unique(dataset.y[val.indices], return_counts=True)[1]\n",
    "cm = cm / value_counts[:, None]\n",
    "# plot confusion matrix\n",
    "plt.figure(figsize=(8, 8))\n",
    "sns.heatmap(cm, annot=True, cmap='Blues', fmt='.2f', xticklabels=range(8), yticklabels=range(8))\n",
    "plt.xlabel('Predicted label')\n",
    "plt.ylabel('True label')\n",
    "plt.show()\n"
   ]
  },
  {
   "cell_type": "code",
   "execution_count": 18,
   "metadata": {},
   "outputs": [
    {
     "data": {
      "text/plain": [
       "CN_S50_4_D0(\n",
       "  (net): Sequential(\n",
       "    (0): Linear(in_features=36, out_features=50, bias=True)\n",
       "    (1): ReLU()\n",
       "    (2): Linear(in_features=50, out_features=50, bias=True)\n",
       "    (3): ReLU()\n",
       "    (4): Linear(in_features=50, out_features=50, bias=True)\n",
       "    (5): ReLU()\n",
       "    (6): Linear(in_features=50, out_features=8, bias=True)\n",
       "  )\n",
       ")"
      ]
     },
     "execution_count": 18,
     "metadata": {},
     "output_type": "execute_result"
    }
   ],
   "source": [
    "model = CN_S50_4_D0()\n",
    "model.load_state_dict(torch.load(\"../models/model_state_dict_CN_S50_4_D0.pt\"))\n",
    "model.eval()"
   ]
  },
  {
   "cell_type": "code",
   "execution_count": 20,
   "metadata": {},
   "outputs": [
    {
     "ename": "ModuleNotFoundError",
     "evalue": "No module named 'pose'",
     "output_type": "error",
     "traceback": [
      "\u001b[0;31m---------------------------------------------------------------------------\u001b[0m",
      "\u001b[0;31mModuleNotFoundError\u001b[0m                       Traceback (most recent call last)",
      "\u001b[1;32m/Users/tanayagrawal/sports.ai/model_training/model.ipynb Cell 14\u001b[0m line \u001b[0;36m7\n\u001b[1;32m      <a href='vscode-notebook-cell:/Users/tanayagrawal/sports.ai/model_training/model.ipynb#X16sZmlsZQ%3D%3D?line=4'>5</a>\u001b[0m \u001b[39mimport\u001b[39;00m \u001b[39msys\u001b[39;00m\n\u001b[1;32m      <a href='vscode-notebook-cell:/Users/tanayagrawal/sports.ai/model_training/model.ipynb#X16sZmlsZQ%3D%3D?line=5'>6</a>\u001b[0m sys\u001b[39m.\u001b[39mpath\u001b[39m.\u001b[39minsert(\u001b[39m0\u001b[39m, \u001b[39m'\u001b[39m\u001b[39m../pose/\u001b[39m\u001b[39m'\u001b[39m)\n\u001b[0;32m----> <a href='vscode-notebook-cell:/Users/tanayagrawal/sports.ai/model_training/model.ipynb#X16sZmlsZQ%3D%3D?line=6'>7</a>\u001b[0m \u001b[39mfrom\u001b[39;00m \u001b[39mpose\u001b[39;00m \u001b[39mimport\u001b[39;00m \u001b[39m*\u001b[39m\n\u001b[1;32m      <a href='vscode-notebook-cell:/Users/tanayagrawal/sports.ai/model_training/model.ipynb#X16sZmlsZQ%3D%3D?line=7'>8</a>\u001b[0m \u001b[39mfrom\u001b[39;00m \u001b[39mmatplotlib\u001b[39;00m \u001b[39mimport\u001b[39;00m pyplot \u001b[39mas\u001b[39;00m plt\n\u001b[1;32m      <a href='vscode-notebook-cell:/Users/tanayagrawal/sports.ai/model_training/model.ipynb#X16sZmlsZQ%3D%3D?line=8'>9</a>\u001b[0m \u001b[39mimport\u001b[39;00m \u001b[39mpandas\u001b[39;00m \u001b[39mas\u001b[39;00m \u001b[39mpd\u001b[39;00m\n",
      "\u001b[0;31mModuleNotFoundError\u001b[0m: No module named 'pose'"
     ]
    }
   ],
   "source": [
    "import torch\n",
    "import os\n",
    "import cv2\n",
    "import mediapipe as mp\n",
    "import sys\n",
    "sys.path.insert(0, '../pose/')\n",
    "from pose import *\n",
    "from matplotlib import pyplot as plt\n",
    "import pandas as pd\n",
    "\n",
    "detector = create_detector('pose_landmarker_lite.task')\n",
    "video_tag = 'Stage8/Stage8_R1hb1.mp4'\n",
    "video_path = f'/Users/tanayagrawal/PycharmProjects/sportsai/Tennis/RData/{video_tag}'\n",
    "cap = cv2.VideoCapture(video_path)\n",
    "\n",
    "columns = []\n",
    "for i in BOTH_ARM_MARKERS:\n",
    "    columns.extend([f\"x{i}\", f\"y{i}\", f\"z{i}\"])\n",
    "pose_data = pd.DataFrame(columns=columns)\n",
    "\n",
    "total_frames = int(cap.get(cv2.CAP_PROP_FRAME_COUNT))\n",
    "rows = (total_frames + 4) // 5\n",
    "frames = 0\n",
    "fig = plt.figure(figsize=(9,16))\n",
    "\n",
    "while cap.isOpened():\n",
    "    ret, frame = cap.read()\n",
    "    if not ret:\n",
    "        break\n",
    "    frame = cv2.cvtColor(frame, cv2.COLOR_BGR2RGB)\n",
    "\n",
    "    mp_image = mp.Image(image_format=mp.ImageFormat.SRGB, data=frame)\n",
    "    detection_result = detector.detect(mp_image)\n",
    "    if len(detection_result.pose_landmarks) < 1:\n",
    "        continue\n",
    "    pose_landmarks = detection_result.pose_landmarks[0]\n",
    "    left_hip = pose_landmarks[LEFT_HIP]\n",
    "    right_hip = pose_landmarks[RIGHT_HIP]\n",
    "    center = (left_hip.x + right_hip.x) / 2, (left_hip.y + right_hip.y) / 2, (left_hip.z + right_hip.z) / 2\n",
    "    translated_landmarks = []\n",
    "    for j in BOTH_ARM_MARKERS:\n",
    "        translated_landmarks.extend([\n",
    "            pose_landmarks[j].x - center[0], \n",
    "            pose_landmarks[j].y - center[1], \n",
    "            pose_landmarks[j].z - center[2], \n",
    "        ])\n",
    "    pose_data.loc[len(pose_data)] = translated_landmarks\n",
    "\n",
    "    pose_data_tensor = torch.tensor(pose_data.values.astype(np.float32))\n",
    "    output = model(pose_data_tensor)\n",
    "    x = torch.max(output, dim=1).indices\n",
    "    pred_stage = torch.mode(x).values.item() +1\n",
    "    \n",
    "    ax = fig.add_subplot(rows, 5, frames+1)\n",
    "    ax.set_title('Stage '+ str(pred_stage))\n",
    "    ax.imshow(frame)\n",
    "    ax.axis('off')\n",
    "    frames+=1\n",
    " \n",
    "plt.tight_layout()\n",
    "plt.show()\n",
    "cap.release()\n",
    "\n",
    "pose_data_tensor = torch.tensor(pose_data.values.astype(np.float32))\n",
    "output = model(pose_data_tensor)\n",
    "x = torch.max(output, dim=1).indices\n",
    "pred_stage = torch.mode(x).values.item() +1\n",
    "print(video_tag + \" - Final Predicted Stage: \" + str(pred_stage))\n",
    "\n",
    "if \"Stage\"+str(pred_stage) == video_tag[:6]:\n",
    "    print(\"Prediction was correct!\")\n",
    "else:\n",
    "    print(\"Incorrect.\")"
   ]
  }
 ],
 "metadata": {
  "kernelspec": {
   "display_name": "ml",
   "language": "python",
   "name": "python3"
  },
  "language_info": {
   "codemirror_mode": {
    "name": "ipython",
    "version": 3
   },
   "file_extension": ".py",
   "mimetype": "text/x-python",
   "name": "python",
   "nbconvert_exporter": "python",
   "pygments_lexer": "ipython3",
   "version": "3.11.2"
  }
 },
 "nbformat": 4,
 "nbformat_minor": 2
}
