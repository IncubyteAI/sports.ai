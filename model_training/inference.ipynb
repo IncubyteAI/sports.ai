{
 "cells": [
  {
   "cell_type": "code",
   "execution_count": null,
   "metadata": {},
   "outputs": [],
   "source": [
    "from model import VideoProcessor\n",
    "import sys\n",
    "sys.path.insert(0, '../models/')\n",
    "from models import *\n",
    "import matplotlib.pyplot as plt\n",
    "import torch\n",
    "\n",
    "model = CN_S200_5_D0()\n",
    "model.load()\n",
    "vp = VideoProcessor()\n",
    "frames, stages = vp.process(\"RData/RTennisServes/R0rf1.mp4\")\n",
    "print(frames.shape, len(stages))\n",
    "ROWS = 20\n",
    "COLS = len(frames) // ROWS + 1\n",
    "plt.figure(figsize=(COLS * 3, ROWS * 3))\n",
    "for i, (frame, stage) in enumerate(zip(frames, stages)):\n",
    "    plt.subplot(ROWS, COLS, i + 1)\n",
    "    plt.imshow(frame)\n",
    "    plt.title(f\"Stage {stage + 1}\")\n",
    "    plt.axis(\"off\")"
   ]
  },
  {
   "cell_type": "code",
   "execution_count": 29,
   "metadata": {},
   "outputs": [
    {
     "name": "stdout",
     "output_type": "stream",
     "text": [
      "0 -1\n",
      "1 0\n",
      "releasing\n",
      "2 1\n",
      "releasing\n",
      "3 2\n",
      "releasing\n",
      "4 3\n",
      "releasing\n",
      "6 4\n",
      "releasing\n",
      "7 6\n",
      "releasing\n",
      "6 7\n",
      "releasing\n",
      "7 6\n",
      "releasing\n",
      "1 7\n",
      "releasing\n",
      "7 1\n",
      "releasing\n",
      "0 7\n",
      "releasing\n"
     ]
    }
   ],
   "source": [
    "import cv2 \n",
    "import numpy as np\n",
    "path = \"stage1.mp4\"\n",
    "# video = cv2.VideoWriter(path, cv2.VideoWriter_fourcc(*'MP4V'), 30, (frames.shape[2], frames.shape[1]))\n",
    "c = -1\n",
    "s = -1\n",
    "video = None\n",
    "for frame, stage in zip(frames, stages):\n",
    "    if stage != s:\n",
    "        c += 1\n",
    "        print(stage, s)\n",
    "        if video != None:\n",
    "            print(\"releasing\")\n",
    "            video.release()\n",
    "        s = stage\n",
    "        video = cv2.VideoWriter(f\"output/{c}_Stage{s + 1}.mp4\", cv2.VideoWriter_fourcc(*'mp4v'), 30, (frames.shape[2], frames.shape[1]))\n",
    "    video.write(frame[:, :, [2, 1, 0]].numpy())\n",
    "video.release()"
   ]
  }
 ],
 "metadata": {
  "kernelspec": {
   "display_name": "ml",
   "language": "python",
   "name": "python3"
  },
  "language_info": {
   "codemirror_mode": {
    "name": "ipython",
    "version": 3
   },
   "file_extension": ".py",
   "mimetype": "text/x-python",
   "name": "python",
   "nbconvert_exporter": "python",
   "pygments_lexer": "ipython3",
   "version": "3.11.2"
  }
 },
 "nbformat": 4,
 "nbformat_minor": 2
}
